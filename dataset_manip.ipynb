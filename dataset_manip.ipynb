{
 "metadata": {
  "language_info": {
   "codemirror_mode": {
    "name": "ipython",
    "version": 3
   },
   "file_extension": ".py",
   "mimetype": "text/x-python",
   "name": "python",
   "nbconvert_exporter": "python",
   "pygments_lexer": "ipython3",
   "version": "3.9.4"
  },
  "orig_nbformat": 2,
  "kernelspec": {
   "name": "python394jvsc74a57bd0ac2eaa0ea0ebeafcc7822e65e46aa9d4f966f30b695406963e145ea4a91cd4fc",
   "display_name": "Python 3.9.4 64-bit ('python@3.9')"
  },
  "metadata": {
   "interpreter": {
    "hash": "ac2eaa0ea0ebeafcc7822e65e46aa9d4f966f30b695406963e145ea4a91cd4fc"
   }
  }
 },
 "nbformat": 4,
 "nbformat_minor": 2,
 "cells": [
  {
   "cell_type": "code",
   "execution_count": 11,
   "metadata": {},
   "outputs": [],
   "source": [
    "# Change classes that are not 51 to 13 to 1 so that data gets stabler\n",
    "\n",
    "names = []\n",
    "\n",
    "f = open(\"multiclass.csv\", \"r\")\n",
    "f2 = open(\"multiclass_v2.csv\", \"w\")\n",
    "lines = f.readlines()\n",
    "\n",
    "i = 0\n",
    "c = 0\n",
    "\n",
    "for line in lines:\n",
    "    if i == 0: \n",
    "        i = i + 1 \n",
    "        f2.write(line)\n",
    "        continue\n",
    "    i = i + 1 \n",
    "\n",
    "    num = int(line.split(',')[1].rstrip(\"\\n\"))\n",
    "    name = line.split(',')[0]\n",
    "\n",
    "    if num == 51 or num == 13 :\n",
    "        f2.write(line)\n",
    "    else :\n",
    "        f2.write(name + ',1\\n')\n",
    "\n",
    "f.close()\n",
    "f2.close()"
   ]
  },
  {
   "cell_type": "code",
   "execution_count": null,
   "metadata": {},
   "outputs": [],
   "source": []
  }
 ]
}