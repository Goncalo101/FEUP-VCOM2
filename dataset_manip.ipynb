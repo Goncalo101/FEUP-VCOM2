{
 "metadata": {
  "language_info": {
   "codemirror_mode": {
    "name": "ipython",
    "version": 3
   },
   "file_extension": ".py",
   "mimetype": "text/x-python",
   "name": "python",
   "nbconvert_exporter": "python",
   "pygments_lexer": "ipython3",
   "version": "3.9.4"
  },
  "orig_nbformat": 2,
  "kernelspec": {
   "name": "python394jvsc74a57bd0ac2eaa0ea0ebeafcc7822e65e46aa9d4f966f30b695406963e145ea4a91cd4fc",
   "display_name": "Python 3.9.4 64-bit ('python@3.9')"
  },
  "metadata": {
   "interpreter": {
    "hash": "ac2eaa0ea0ebeafcc7822e65e46aa9d4f966f30b695406963e145ea4a91cd4fc"
   }
  }
 },
 "nbformat": 4,
 "nbformat_minor": 2,
 "cells": [
  {
   "cell_type": "code",
   "execution_count": 11,
   "metadata": {},
   "outputs": [],
   "source": [
    "# Change classes that are not 51 to 13 to 1 so that data gets stabler\n",
    "\n",
    "names = []\n",
    "\n",
    "f = open(\"multiclass.csv\", \"r\")\n",
    "f2 = open(\"multiclass_v2.csv\", \"w\")\n",
    "lines = f.readlines()\n",
    "\n",
    "i = 0\n",
    "c = 0\n",
    "\n",
    "for line in lines:\n",
    "    if i == 0: \n",
    "        i = i + 1 \n",
    "        f2.write(line)\n",
    "        continue\n",
    "    i = i + 1 \n",
    "\n",
    "    num = int(line.split(',')[1].rstrip(\"\\n\"))\n",
    "    name = line.split(',')[0]\n",
    "\n",
    "    if num == 51 or num == 13 :\n",
    "        f2.write(line)\n",
    "    else :\n",
    "        f2.write(name + ',1\\n')\n",
    "\n",
    "f.close()\n",
    "f2.close()"
   ]
  },
  {
   "cell_type": "code",
   "execution_count": 9,
   "metadata": {
    "tags": []
   },
   "outputs": [],
   "source": [
    "# Create data with only classes that are not 13 or 51\n",
    "\n",
    "\n",
    "names = []\n",
    "\n",
    "f = open(\"multiclass.csv\", \"r\")\n",
    "f2 = open(\"multiclass_small.csv\", \"w\")\n",
    "lines = f.readlines()\n",
    "\n",
    "i = 0\n",
    "c = 0\n",
    "\n",
    "for line in lines:\n",
    "    if i == 0: \n",
    "        i = i + 1 \n",
    "        f2.write(line)\n",
    "        continue\n",
    "    i = i + 1 \n",
    "\n",
    "    num = int(line.split(',')[1].rstrip(\"\\n\"))\n",
    "    name = line.split(',')[0]\n",
    "   \n",
    "    if num != 51 and num != 13 :\n",
    "        f2.write(line)\n",
    "\n",
    "f.close()\n",
    "f2.close()\n",
    "\n"
   ]
  },
  {
   "cell_type": "code",
   "execution_count": null,
   "metadata": {},
   "outputs": [],
   "source": [
    "#create dataset with only images from the small dataset\n",
    "\n",
    "#Select image file names that contain classes from the array \n",
    "imgName = []\n",
    "\n",
    "f = open(\"multiclass_small.csv\", \"r\")\n",
    "lines = f.readlines()\n",
    "\n",
    "i = 0\n",
    "\n",
    "for line in lines:\n",
    "    if i == 0: \n",
    "        i = i + 1 \n",
    "        continue\n",
    "    i = i + 1 \n",
    "\n",
    "    name = line.split(',')[0]\n",
    "    labels = line.split(',')[1].rstrip(\"\\n\").split()\n",
    "    \n",
    "    for label in labels: \n",
    "        l = int(label)\n",
    "        if l in classes: \n",
    "            imgName.append(name+\".png\")\n",
    "            break\n",
    "\n",
    "print(imgName)\n",
    "\n",
    "f.close()\n",
    "\n",
    "#Create training folder \n",
    "\n",
    "import shutil\n",
    "\n",
    "for img in imgName: \n",
    "\n",
    "    path = \"/Volumes/KINGSTON/VCOM/imet-2019-fgvc6/train/\"+img #put the path for training dataset\n",
    "\n",
    "    shutil.copy2(path,\"/Volumes/KINGSTON/VCOM/train/\") #put the path for the new training dataset"
   ]
  }
 ]
}