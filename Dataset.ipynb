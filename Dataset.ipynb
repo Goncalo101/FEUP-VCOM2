{
 "metadata": {
  "language_info": {
   "codemirror_mode": {
    "name": "ipython",
    "version": 3
   },
   "file_extension": ".py",
   "mimetype": "text/x-python",
   "name": "python",
   "nbconvert_exporter": "python",
   "pygments_lexer": "ipython3",
   "version": "3.9.4"
  },
  "orig_nbformat": 2,
  "kernelspec": {
   "name": "python394jvsc74a57bd0ac2eaa0ea0ebeafcc7822e65e46aa9d4f966f30b695406963e145ea4a91cd4fc",
   "display_name": "Python 3.9.4 64-bit ('python@3.9')"
  },
  "metadata": {
   "interpreter": {
    "hash": "ac2eaa0ea0ebeafcc7822e65e46aa9d4f966f30b695406963e145ea4a91cd4fc"
   }
  }
 },
 "nbformat": 4,
 "nbformat_minor": 2,
 "cells": [
  {
   "source": [
    "Dataset can be downloaded: https://www.kaggle.com/c/imet-2019-fgvc6\n",
    "\n",
    "Filtering Dataset selecting only the images that have the classes presented on multiclass.csv file presented on mooodle\n"
   ],
   "cell_type": "markdown",
   "metadata": {}
  },
  {
   "cell_type": "code",
   "execution_count": 1,
   "metadata": {
    "tags": []
   },
   "outputs": [
    {
     "output_type": "stream",
     "name": "stdout",
     "text": [
      "[0, 1, 2, 9, 10, 12, 13, 14, 15, 16, 17, 18, 22, 23, 24, 25, 26, 27, 28, 29, 32, 33, 35, 38, 40, 41, 42, 43, 44, 45, 46, 48, 49, 50, 51, 52, 54, 55, 56, 58, 59, 60, 61, 62, 64, 65, 66, 67, 69, 70]\n"
     ]
    }
   ],
   "source": [
    "import numpy as np\n",
    "\n",
    "#Selected class indexes\n",
    "classes = []\n",
    "\n",
    "f = open(\"../multiclass.csv\", \"r\")\n",
    "lines = f.readlines()\n",
    "\n",
    "\n",
    "i = 0\n",
    "\n",
    "for line in lines:\n",
    "    if i == 0: \n",
    "        i = i + 1 \n",
    "        continue\n",
    "    i = i + 1 \n",
    "\n",
    "    num = int(line.split(',')[1].rstrip(\"\\n\"))\n",
    "\n",
    "    if num not in classes:\n",
    "        classes.append(num)\n",
    "\n",
    "classes.sort()\n",
    "\n",
    "print(classes)\n",
    "\n",
    "f.close()\n"
   ]
  },
  {
   "cell_type": "code",
   "execution_count": 2,
   "metadata": {},
   "outputs": [],
   "source": [
    "# Classes names \n",
    "\n",
    "names = []\n",
    "\n",
    "f = open(\"../imet-2019-fgvc6/labels.csv\", \"r\")\n",
    "f2 = open(\"../labels.csv\", \"w\")\n",
    "lines = f.readlines()\n",
    "\n",
    "i = 0\n",
    "c = 0\n",
    "\n",
    "for line in lines:\n",
    "    if i == 0: \n",
    "        i = i + 1 \n",
    "        continue\n",
    "    i = i + 1 \n",
    "\n",
    "    num = int(line.split(',')[0].rstrip(\"\\n\"))\n",
    "    name = line.split(',')[1]\n",
    "\n",
    "    if num in classes:\n",
    "        f2.write(str(classes[c]) + \",\" + name)\n",
    "        c = c + 1\n",
    "\n",
    "f.close()\n",
    "f2.close()"
   ]
  },
  {
   "cell_type": "code",
   "execution_count": 12,
   "metadata": {
    "tags": [
     "outputPrepend"
    ]
   },
   "outputs": [
    {
     "output_type": "stream",
     "name": "stdout",
     "text": [
      "9fe65.png', 'f771d7cef696320b.png', 'f7763e2482252576.png', 'f779ae6e11336db7.png', 'f77a2263bd5d90b9.png', 'f77b83a184553372.png', 'f77cb40938495816.png', 'f780b25a0630a6a2.png', 'f78bc716071e1dd8.png', 'f78f3e764f4402bf.png', 'f7949bc175c461cc.png', 'f7965fb80407fee9.png', 'f799e3d7c5238405.png', 'f799e9ee20a2d31b.png', 'f79d87b2975b4dd5.png', 'f79da7520499e392.png', 'f79ed763d09ee7ec.png', 'f7a1869f69194e7b.png', 'f7a38ffbaa2ae80d.png', 'f7a46ed38d0a72b8.png', 'f7a566900ffc747d.png', 'f7a7be0c14518782.png', 'f7b2735f3baab394.png', 'f7b2e8c83c6b45e1.png', 'f7b4fe4d718e2bf1.png', 'f7b8aeae1413f820.png', 'f7b9c81127a181ec.png', 'f7bbee77fd2d24d7.png', 'f7bcc26af2552dbe.png', 'f7c03a19bdbf29fc.png', 'f7c11242a5291e8e.png', 'f7c236cf63effdeb.png', 'f7c30805428e49b0.png', 'f7c43a24079996.png', 'f7c87cd2119b87a1.png', 'f7c9dcf6a6d8435e.png', 'f7ccd493e5d6a64f.png', 'f7d322f74c1f93d1.png', 'f7d62493ef46011.png', 'f7dd84b6f98f733a.png', 'f7e0d8fd400dfff2.png', 'f7e35766fa2a7662.png', 'f7e4d4820e8319.png', 'f7e76f0a3936b8ea.png', 'f7e9c7287e49d3ce.png', 'f7ea1256bf708ce9.png', 'f7ebdc527aac7901.png', 'f7ef5f995730449a.png', 'f7f01ed5c86a04d1.png', 'f7f044177480fc05.png', 'f7f42f8a769402cc.png', 'f7f51379cab0742e.png', 'f7f72b366ab2dc1b.png', 'f7f8ad7a1ef77e16.png', 'f7f94a0c0108f9a5.png', 'f7fda9e1b535d4c8.png', 'f8057b395a15571d.png', 'f807d1d392ea5301.png', 'f80b1f4d77d5b070.png', 'f80b26a4ebaf8ffb.png', 'f80cb1ec1cced846.png', 'f80e32b70a7f08a5.png', 'f80e3c6fd8827f16.png', 'f81084a6d80897c9.png', 'f8126dc609200e5a.png', 'f819fcf9bacf0716.png', 'f81e100035d8e2ea.png', 'f81fc447b6207d45.png', 'f8244374d0d9c536.png', 'f825d7404d76307b.png', 'f82849376b447cb4.png', 'f82b795a047364e1.png', 'f8329a709ecce65c.png', 'f8333d15606bf148.png', 'f837c7cafb791f65.png', 'f8380179c735975c.png', 'f838e88dc26c8037.png', 'f83964e0b299d90d.png', 'f8397fb891bbd9b4.png', 'f83982f9fb17ffd0.png', 'f839d16200770344.png', 'f83a45bbf5e71b54.png', 'f83b981e82672445.png', 'f83cb5d93b972380.png', 'f83d781dcda2540d.png', 'f840c7c767163126.png', 'f84390bd14a4d8cd.png', 'f84441f361f4b54.png', 'f844bc22d580898e.png', 'f845ffc17df3b4a3.png', 'f8473c2fa4dc7e6e.png', 'f84740c5ed5e0c77.png', 'f847943d1af8160f.png', 'f849b15b181066d.png', 'f84ad33279fd1658.png', 'f84c4cab8d47a83f.png', 'f84e57be7c0bd316.png', 'f8502a73049c95c3.png', 'f850c11fe68c750c.png', 'f8527f5db750c5ee.png', 'f855b795d86fd294.png', 'f85768b1c95de461.png', 'f85876bf1043b87f.png', 'f85b6067c57f387a.png', 'f85df35f9da0d661.png', 'f85eca0b107deabd.png', 'f860796f033545fb.png', 'f861e5c1d1b8da98.png', 'f86345d7c9a9bd11.png', 'f863a838afe47ef4.png', 'f8664e6e51aab051.png', 'f86675873e01b1e2.png', 'f866c4182926cb16.png', 'f8682222ac88570b.png', 'f86953a4417e97db.png', 'f86d6be11dab539d.png', 'f86f6662a1a4cdfc.png', 'f8702a5f4b1e88c4.png', 'f872cbb8ebe0df1a.png', 'f874d8d58e1286f9.png', 'f875f4db39e9e8b2.png', 'f877b265a37501c1.png', 'f87841d95059bfe2.png', 'f879822acda9465.png', 'f87c10c2ea1b9021.png', 'f87f71ab02e024ad.png', 'f87fe5cb0d6e69ab.png', 'f8801c4460a86b45.png', 'f8862f5f081f5da2.png', 'f8864f0d895b0e55.png', 'f8889bc665d0f7bc.png', 'f88b3bfe58d808e0.png', 'f88bdaa33ad562f1.png', 'f89183f149ce2239.png', 'f898391bbe3701b7.png', 'f8986e1a4860a2f2.png', 'f89b09a26fbb06f8.png', 'f89e2aa1a499dd46.png', 'f8a4052180cbc52f.png', 'f8a45632ae670810.png', 'f8b18dbdebc4b414.png', 'f8b7430a5cebdc60.png', 'f8b92ee1a44b7923.png', 'f8b9b7606d4e3271.png', 'f8c05281d091548d.png', 'f8c1513604b662f3.png', 'f8c3028306d006a8.png', 'f8c6bb7a8d184d03.png', 'f8c7d6eb78a39060.png', 'f8ca6c1d552b755d.png', 'f8cb212c6f7c7465.png', 'f8cd897ade44e2cc.png', 'f8d0719d198f5c87.png', 'f8d1e7949e207fab.png', 'f8d61a12e714c90c.png', 'f8daf44038fb5fb3.png', 'f8de2b271e40ae93.png', 'f8e11ec97e547e2.png', 'f8e4ef50c2f17fb6.png', 'f8e98780f4287584.png', 'f8ecdf399c4c4d29.png', 'f8ef6a39aeddae.png', 'f8f16e9ae00ae7f8.png', 'f8f20cd9de3cf86c.png', 'f8f218ed5eca7476.png', 'f8f4550f4bd7e840.png', 'f8f613b29fd7dfe1.png', 'f8fcb577b774666a.png', 'f904341ddfaaa9f.png', 'f90a352511255d6c.png', 'f90a36fdda83548a.png', 'f90b3048c09f7e89.png', 'f9108bb5b1b1eccf.png', 'f913e542e6962d23.png', 'f914b2ad82713a88.png', 'f9153c5a26e13e84.png', 'f91751a2bee21a87.png', 'f91780f2bf1a2fd4.png', 'f919e93fcde6956a.png', 'f91dfbcfa7bb2a2e.png', 'f91e2075ac8f4404.png', 'f91e2cddbb2da1d3.png', 'f923cbdf0df790a6.png', 'f9245304fe7c8542.png', 'f925280eb438ebcf.png', 'f9278b8d4f6ce12d.png', 'f9283fb94f4473f5.png', 'f9285309dcd1eb16.png', 'f92d0b3a964ce96e.png', 'f92d68ef35264a61.png', 'f9308ee10ed5155b.png', 'f931b527eeee0a3d.png', 'f93331639622575.png', 'f93385dcc4ed60ea.png', 'f9356f66311260e4.png', 'f9358803ed301ed7.png', 'f93864c8caa0cb66.png', 'f93a98e53b92fb8b.png', 'f93dbe5ae43134b8.png', 'f94152a4ce4d6ca5.png', 'f942b320c1cdc8d2.png', 'f942b588f3808b41.png', 'f947c05b2a6baaea.png', 'f94858d6214ceaff.png', 'f94a2eae3cc13227.png', 'f94b6ada04dba0e1.png', 'f94bf59373748219.png', 'f94f4718560c4313.png', 'f95329634c76cf10.png', 'f9539a3a6dce3dd7.png', 'f9558e9ba3c8bce1.png', 'f9568c31715e4109.png', 'f959b19bb579cff9.png', 'f95a9e96ef81c009.png', 'f95ac58f24c1f2b2.png', 'f95c7324bd4e8b03.png', 'f9617f7d1a2e1212.png', 'f96c232c08be243c.png', 'f96d5b5ec0e9fba3.png', 'f96efd771dc4ac37.png', 'f971d5aa92d26fe5.png', 'f9730c12dd9bc790.png', 'f97ae92554ca74d4.png', 'f97b72aa55ed1138.png', 'f97b97de451b739a.png', 'f97e662f6047ee3c.png', 'f9880f911c973929.png', 'f98d42143fa3473d.png', 'f99137688f75ac68.png', 'f998097d33b43b34.png', 'f9994e03c791cdff.png', 'f99c00644ba8feff.png', 'f99e45aa9d1f2385.png', 'f9a2b5cdedbd92cb.png', 'f9a3eb40ed34cdf0.png', 'f9a45c5d6909fd54.png', 'f9aa89c1f39e8ec5.png', 'f9aa91d787b7e785.png', 'f9b7460e2976b5c6.png', 'f9bac45dab5eb520.png', 'f9bdc94efdd956fe.png', 'f9c2b9d28d51b0b.png', 'f9c59196cbd3a42c.png', 'f9c5b47889f1ea23.png', 'f9c87013845123a2.png', 'f9caa7f2204a1394.png', 'f9cb4d437adb602b.png', 'f9cd80396e93ef2c.png', 'f9ce31d5ce866b68.png', 'f9d042826919f2db.png', 'f9d35cf54de57f9c.png', 'f9d48aa9dae712c2.png', 'f9d6439fc95b048.png', 'f9d9cb82d5961433.png', 'f9da65e1c93b555b.png', 'f9ddc4fa0a94660e.png', 'f9e42fae7d1b3abe.png', 'f9e9b387844a144b.png', 'f9f123da3c032ad9.png', 'f9f28b11845f4345.png', 'f9f405c596dbb2a2.png', 'f9f6441828446e74.png', 'f9f789d7542dd8a8.png', 'f9f7ee05bc5e62ef.png', 'f9f881b8ee281d5.png', 'f9f8b03a7a10d80f.png', 'f9fab2b5dd1e78da.png', 'f9faf4218ba81650.png', 'f9fe80f4d9c09b58.png', 'fa00eeb4b65e72c2.png', 'fa02c41feb4421bf.png', 'fa030ff216cfead3.png', 'fa08069658ca56f9.png', 'fa0f80909c4a2dd9.png', 'fa106052c0228fce.png', 'fa12a5b055f53063.png', 'fa13e564a687644.png', 'fa157310ebc2fbf1.png', 'fa1d6b249be30235.png', 'fa1f9417b47b1527.png', 'fa218c53a3fd3995.png', 'fa22961101f01222.png', 'fa237dc467969df0.png', 'fa243b158c8a4b2.png', 'fa251b9d714acbdb.png', 'fa26435d346a222c.png', 'fa27f32a24c3727c.png', 'fa2b7ade793b0061.png', 'fa2ce0cd8efab53c.png', 'fa3166feb4e58540.png', 'fa331d1e1b885856.png', 'fa34f12492cdb2e7.png', 'fa36699ac5e998a1.png', 'fa3a49789242d1f0.png', 'fa3b89ceb5c64149.png', 'fa3bcf05c89a9bb9.png', 'fa3cf403238cbf5b.png', 'fa40b23b6b0b3b46.png', 'fa435e181c40dd71.png', 'fa44f5d7597f85d4.png', 'fa494446b080244f.png', 'fa49a01729518fac.png', 'fa4e9f5795ca8900.png', 'fa4f046ea9499b93.png', 'fa50f67636f8dafe.png', 'fa590bd1f0765316.png', 'fa64997f573d2fd.png', 'fa654b86bca632fd.png', 'fa6771ca505c8fa5.png', 'fa6afd454013588.png', 'fa6ccbbdf598ddd3.png', 'fa6d8c23fea213ce.png', 'fa6ee15e38471bb8.png', 'fa70dcd047462197.png', 'fa7230958f2cd8f0.png', 'fa7930eaa8dd6f68.png', 'fa7a03853ec8cb5b.png', 'fa802f6157b7788b.png', 'fa88d06b48343c8e.png', 'fa8acf313c3b4bcf.png', 'fa8c92b652ecbf14.png', 'fa8f98b37cd762e8.png', 'fa90ca8d3f9212cc.png', 'fa91d9843ece69ad.png', 'fa98b6ad659bdcf6.png', 'fa98f722cd4ea6ce.png', 'fa9bc52120c3db68.png', 'faa27dc7f65b068b.png', 'faa6d0bf3c54d8bb.png', 'faa9709a7f7e0e4b.png', 'faafe86de5d0238a.png', 'fab32506a4c40fad.png', 'fab33f5a6afa167d.png', 'fab40d2d52255723.png', 'fabdab7d10224bda.png', 'fabf9c53be1fc1b6.png', 'faca031fb09a3fbd.png', 'faccc3d4c9f8aa3e.png', 'face4bd87291215d.png', 'fad07eacc9fcd955.png', 'fad0d95e039a5f65.png', 'fadaeaa1a1401b7b.png', 'fadb7f3a6553c3a.png', 'fadc490e765accb5.png', 'fae169ee673f23c7.png', 'fae38ecac953f690.png', 'fae478264654e477.png', 'faea3b147e6670c7.png', 'faea5c1cc99c6b8d.png', 'faeab5700078d808.png', 'faec18832ae0de7d.png', 'faf1784327a58f42.png', 'faf46a5a7e19d919.png', 'faf53408f5bc6400.png', 'faf6d1a32e9e2c3f.png', 'faf7d07d76d2c9a.png', 'fafa212545ae328b.png', 'fafdbd913eea9489.png', 'fb00cb344d974bc8.png', 'fb01617e586af9cc.png', 'fb03ccbc42b26d68.png', 'fb0432d56eb80b02.png', 'fb075a65c6f739c1.png', 'fb0a15f250d08867.png', 'fb0b130c2f0d9d4c.png', 'fb0b2f4c5938bda9.png', 'fb0d4247c1b37ad7.png', 'fb0d5a566b8613f6.png', 'fb0ebdbdb6d5dc91.png', 'fb11372cd49675bd.png', 'fb11685af9dd5641.png', 'fb11e3d313f94232.png', 'fb1580c06a2cf70e.png', 'fb194d470fd5c10f.png', 'fb1a9d98e226935a.png', 'fb1bd7844619d6dc.png', 'fb1fdb256d7c45ad.png', 'fb2166b67848a7ce.png', 'fb2763a5fae7d697.png', 'fb2892aa5fdaa5c6.png', 'fb2975fb3b76929c.png', 'fb2cde977de4c76e.png', 'fb2e7cabba310b7a.png', 'fb33a9b170783796.png', 'fb33e8411b23a3ac.png', 'fb35458a33df52b6.png', 'fb37499ea05e0e55.png', 'fb389e7a70de969f.png', 'fb3d958a67871f1c.png', 'fb3e3ddd58166b73.png', 'fb3f71f9b5aceb9b.png', 'fb47adccd45eafa3.png', 'fb48e8f67f79573f.png', 'fb4d628f551ac5fa.png', 'fb4e1a3c1c97ef0c.png', 'fb59894fa9dd0262.png', 'fb59abd80f7c5ee2.png', 'fb62cea70bd31fcd.png', 'fb681b4ca0d7f3dc.png', 'fb6aaa6c86b3881a.png', 'fb6b92a7320c8300.png', 'fb780a9c6ffc05b4.png', 'fb781ef77c685e19.png', 'fb7b89a0c5ee7ede.png', 'fb7cf07716b4cfb8.png', 'fb7db13ec8edf7b9.png', 'fb80561950b3568b.png', 'fb805bd111217166.png', 'fb84af21da0b8820.png', 'fb8632ba262c4bd.png', 'fb88e14de986d844.png', 'fb8aa441d6e5dc98.png', 'fb8fb2ba5ed2fbb9.png', 'fb955dafe79ee344.png', 'fb95898f983c8329.png', 'fb9cac3e7758c0f7.png', 'fba1615393848f5.png', 'fba340ae6d028e9c.png', 'fba3994070f89d64.png', 'fba5f544a7e2d4c5.png', 'fba5ff2e066cb592.png', 'fba9c1bf0ef51ab5.png', 'fba9e3fbbb6e4151.png', 'fbae3f16ca41db92.png', 'fbae9a524093ca2d.png', 'fbb4453c81746f5.png', 'fbb65df667f55893.png', 'fbbc6a663c1a37ff.png', 'fbbd44f2af562108.png', 'fbbd594b1dd1b74.png', 'fbbdb2bdc5cd889e.png', 'fbbfe32b3ea5f92b.png', 'fbc0aeb78bca3a8a.png', 'fbc36926f33c66ac.png', 'fbc4a81f8fc03926.png', 'fbc5d110d05f0853.png', 'fbcd4b317e2e16cc.png', 'fbcf3a29f0387e8f.png', 'fbd063aec98e1570.png', 'fbd1d118af3b0255.png', 'fbd6ff99e611871.png', 'fbdb0a3838254258.png', 'fbdcb0800547730a.png', 'fbe45183709a400.png', 'fbe5c357a8491b87.png', 'fbe6420839051d4.png', 'fbe6bf415292cca1.png', 'fbe8cf8bc329c712.png', 'fbe981e56da1f427.png', 'fbe9a129b1fd0fc8.png', 'fbed433123bba11b.png', 'fbf2f81aba392958.png', 'fbf4ae201d253ab2.png', 'fbfa39f9de559375.png', 'fbfcce66a57b8ec7.png', 'fc02bfd5cd552eae.png', 'fc04e0fd8a0a0e26.png', 'fc0f2b14d45f5bf.png', 'fc11943edc5ca273.png', 'fc14362477154dfc.png', 'fc15ae8fb6ec4505.png', 'fc16982fe5f004e9.png', 'fc1704ac8efcbc19.png', 'fc19bdc601a1a3b6.png', 'fc1ac89c8c70b9e0.png', 'fc1d286a426c8a6a.png', 'fc1dfc827508c0c1.png', 'fc2057897d60946.png', 'fc2424b7b4d0cd50.png', 'fc2989360dc1cd95.png', 'fc2ccf888dfc5897.png', 'fc2ccfe13191c81a.png', 'fc2cd86f53fa27c.png', 'fc35f7475b1ebc77.png', 'fc364470e5f87f13.png', 'fc3f73e59210ed75.png', 'fc4281fde22aed0c.png', 'fc5076ab6e8333ee.png', 'fc537db6f4aa5f92.png', 'fc5410984cfa0483.png', 'fc56bf42bd5d3b8e.png', 'fc57c215d12083a2.png', 'fc58c9797a3e4755.png', 'fc59cec7464386b.png', 'fc5ebfc6e54f16e6.png', 'fc5f598408568da9.png', 'fc60ee3eb3656563.png', 'fc650a3f0f1c59cc.png', 'fc6793586e304b11.png', 'fc6a304ed216d637.png', 'fc6ac7af98dcc8c3.png', 'fc6c36f0acd8f2d7.png', 'fc6cae17e585b41a.png', 'fc6ce72c95a20785.png', 'fc6d81df73ebc0ba.png', 'fc6f5bcab66d8715.png', 'fc6f7da7494859a8.png', 'fc710f6574b965c5.png', 'fc71899ad45407f4.png', 'fc74b8a172f74f58.png', 'fc7833632d3f3e49.png', 'fc79ef522b7d11c4.png', 'fc7a6070fdca4a3f.png', 'fc7d340fa8433175.png', 'fc7d6084760df103.png', 'fc7f1e008b3daf30.png', 'fc81c5b4a2d34184.png', 'fc83f92c161e6eda.png', 'fc89d597c444f5eb.png', 'fc8ae9582e1fea63.png', 'fc8f315ff0c579e1.png', 'fc93f6e738f11c76.png', 'fc94f4c52bb63d77.png', 'fc9768e490fb4189.png', 'fc9af91630bf87d.png', 'fc9c156f865b22c4.png', 'fc9c703089660e6a.png', 'fc9d3e4676132012.png', 'fc9db4e5c7742da9.png', 'fc9db598fc874ebe.png', 'fc9df23b825ecf0b.png', 'fca7a7c8d44ae3d0.png', 'fcaa1de96ca797f6.png', 'fcb84c4714817ead.png', 'fcbbaf064602fc82.png', 'fcbbebe6c5de5c40.png', 'fcbc2140bd415473.png', 'fcbc94557328cd34.png', 'fcbf1dc7f42f5e80.png', 'fcbf26eb713f214f.png', 'fcc4b5c7b0f0a287.png', 'fcc9610de25c9d4b.png', 'fcc980c7e8684eaf.png', 'fcc9efca5c77fb93.png', 'fccb402c2261e1fc.png', 'fccbc2f8a9494772.png', 'fccd16aabb6a5a66.png', 'fcd06514a41867dd.png', 'fcd08e7c40e165c5.png', 'fcd22fff5bacecfa.png', 'fcd24e42933348de.png', 'fcd58b0e26e09f88.png', 'fcd68f433a660fb5.png', 'fcda6602b4aad6be.png', 'fcdb735987a43f39.png', 'fcdc295032337e08.png', 'fce2927c9005aebe.png', 'fcec9631af28baea.png', 'fcf687a6d7fe71.png', 'fcf9c797b7e83d69.png', 'fd08544953771cef.png', 'fd10ed0211e08058.png', 'fd19bbf5639dd62c.png', 'fd1c3112daae9b06.png', 'fd1d74e6498fe79a.png', 'fd23cd54c0fbf587.png', 'fd2792dd1f1f5dac.png', 'fd28e34fcfce3afe.png', 'fd2cb08cd09052ac.png', 'fd2f5832a797c5fe.png', 'fd310ea46398d3b4.png', 'fd325a30f21f5d43.png', 'fd33fbe5641f06b5.png', 'fd33fe1962b024aa.png', 'fd376383674f57ae.png', 'fd379eef7d5fdb99.png', 'fd37e378331efb5e.png', 'fd414a16ad7f7b8f.png', 'fd416ee13e600b18.png', 'fd416fcbd9de6b49.png', 'fd49a63ed33ecf4e.png', 'fd49c4460442094b.png', 'fd4b8cabbc80da3b.png', 'fd4c6ccc2e82f6b5.png', 'fd4e42cb71467dc8.png', 'fd4e612a5e5e634d.png', 'fd4ef1a5344202d6.png', 'fd53b3d7e7d8d938.png', 'fd570e5a67e2ce57.png', 'fd5fca7b0b35d7b9.png', 'fd65fe3216b0a073.png', 'fd66a9b7f51fe67a.png', 'fd683995051eb9f6.png', 'fd6b3e1f29dcaae.png', 'fd6dc57a9c1d4ff0.png', 'fd6e31977f9521f7.png', 'fd6f554815aeafd7.png', 'fd7f23ffdb931e75.png', 'fd84786b0a098f03.png', 'fd87d2d10241f409.png', 'fd90480b9e6367ca.png', 'fd94616b57108a6e.png', 'fd94cce38ab1a89a.png', 'fd96611f0a4cfc6c.png', 'fd97b8f4a9c2d75d.png', 'fd97d4865e3e2e70.png', 'fd98b256af8982be.png', 'fd99218fc5208ff7.png', 'fd998386556db936.png', 'fda77a6981136201.png', 'fda7e42e34c35375.png', 'fda9e114e3ac9c9f.png', 'fdaabbf562e9c1c3.png', 'fdac0f02f75f2a18.png', 'fdac6f19c1c633e5.png', 'fdadb31dd2c23dd8.png', 'fdae10e2f8603b11.png', 'fdb1a28d3684d997.png', 'fdb201ab9462b5da.png', 'fdb646e5c3e06211.png', 'fdb82c68aaa08110.png', 'fdb8fc39683c1d34.png', 'fdba9627d76ec3b5.png', 'fdbcc66d1f5c0963.png', 'fdc543411c8c6055.png', 'fdc79a19476e90ca.png', 'fdc95cfe064ac9ec.png', 'fdca9ae2cafe5b4c.png', 'fdcbe7e19eb3f63d.png', 'fdcce410730ad6bc.png', 'fdcd092d6bf10ba.png', 'fdcd542b162e62bf.png', 'fddadcef0440778.png', 'fddc870361fad689.png', 'fddd167dc7108998.png', 'fdddbf54cf9c56f3.png', 'fddf85e68f9aa16d.png', 'fde4f82de5ec98fd.png', 'fde9c7d1f6f0f851.png', 'fdeb2443563306fe.png', 'fdebda3c8dc8c7b9.png', 'fdec1e6b23cb1bdf.png', 'fdee03aaef65ff8.png', 'fdf297f927603113.png', 'fdf672a164229000.png', 'fdfceadb3fddc453.png', 'fdfdb3c708b25e04.png', 'fdfe98fa501ba5ea.png', 'fdff68ff2d0bbe9b.png', 'fdffd93a91523b09.png', 'fe01360c1138b8ee.png', 'fe0b3168069ec4f6.png', 'fe10543af324e006.png', 'fe10865d18a0e9c6.png', 'fe10fdf5f6d7353f.png', 'fe11ecf45e304aa1.png', 'fe12a0d0a1a68867.png', 'fe16c89a1d671103.png', 'fe1a6cd3c338622c.png', 'fe1c683d961cb7e4.png', 'fe23bb49b31ee2aa.png', 'fe25554558fb267a.png', 'fe257f6829795ce0.png', 'fe266f8c7ac36f8b.png', 'fe2e1dda106dc5e7.png', 'fe30791417c5cf20.png', 'fe310202df9cac14.png', 'fe34ecf609a7c05a.png', 'fe3585ed1684474a.png', 'fe39f136103d342c.png', 'fe3a0c1b02838fab.png', 'fe3b718f1c4c4d3b.png', 'fe3cbc5ffdc13fc9.png', 'fe3d5aced84355b8.png', 'fe3e30be84352b8f.png', 'fe4347ae31a92517.png', 'fe443911aa65ba80.png', 'fe44b9879858e152.png', 'fe44e029feb311e0.png', 'fe450707b90b6634.png', 'fe45202c915b94e6.png', 'fe45c85110515592.png', 'fe48d895f1090d30.png', 'fe4e5b8d245a2c05.png', 'fe4fe46f9ab6ef45.png', 'fe54e83634dcf9e3.png', 'fe5bf367f6c70e46.png', 'fe5e727b010482fc.png', 'fe5f133fb0541d7f.png', 'fe612d115442f9d0.png', 'fe63c631155fd23a.png', 'fe6cb33bf691cb4a.png', 'fe6fe31bafca3eea.png', 'fe735c1c875d3662.png', 'fe760a54c5d7992d.png', 'fe77608da9e3816a.png', 'fe7854763b690a1f.png', 'fe80c76bfb97b3bd.png', 'fe88000171d0bef2.png', 'fe8999cc0b6ed332.png', 'fe8a19d882d1f328.png', 'fe8ae6ce438b850d.png', 'fe8bd3ff01ba54f1.png', 'fe8da4448484a236.png', 'fe931b6af6033134.png', 'fe93e17957b88b9d.png', 'fe95c6d0589236b1.png', 'fe986f716c5d90a5.png', 'fe9b81f50b88d6b9.png', 'fe9bc922c8018efc.png', 'fe9bcb0bf9e587df.png', 'fe9d5e12a963f746.png', 'fe9d666278754f3f.png', 'fe9df32b547644bf.png', 'fe9ed761738ad460.png', 'fea06eb19225bc75.png', 'fea186971cbe64c8.png', 'fea51b62114fb16f.png', 'fea668b3dec521fa.png', 'fea8742279a5dd06.png', 'feab6c4629643d1d.png', 'feaca7f8bd5e7c02.png', 'feadf2e747537f01.png', 'feaf8fc7ef5bface.png', 'feb028580115281b.png', 'feb34ad22bb089fa.png', 'feb704e0c71efa94.png', 'feb937376658d95c.png', 'feb94e64279984b.png', 'febecb301443c629.png', 'fec45a9312924e43.png', 'fec696945874e772.png', 'fecf7ecf6fcd7640.png', 'fed162e00bc787af.png', 'fed260f371e9a3ab.png', 'fed58c5e711b09ac.png', 'fed631651b40d4.png', 'fed846f32b9a8412.png', 'fed9896e67fab22e.png', 'feda498990039fc3.png', 'fedd2f1236ca1c36.png', 'fee41c5a4487da73.png', 'fee50346600b27c4.png', 'fee5547aa7bd4833.png', 'fee5d08d0ce263d1.png', 'fee6572a9e9f7956.png', 'fee97adaf5a9fa1.png', 'feec39b39a13e083.png', 'feedbbeacd5626b5.png', 'fef25d2e22b92651.png', 'fef4752af73cb164.png', 'fefa070adfae5f8.png', 'fefb574c22869d1c.png', 'ff047e8888c3610a.png', 'ff04e8832d2e1c49.png', 'ff08157c2d154168.png', 'ff091f98a8f3caca.png', 'ff0ac5b567774c03.png', 'ff0fb4e864e2627c.png', 'ff102196ce5e6df3.png', 'ff146dbb00288e42.png', 'ff1a072a2e1b6bf7.png', 'ff1a5b6fd7e7e6a9.png', 'ff1a7ec5f205ee04.png', 'ff1c61c2615fed36.png', 'ff1d5286e99d2dd4.png', 'ff2405ce1eda4ff1.png', 'ff2a23b11a336392.png', 'ff2a651c2eecbba0.png', 'ff2c0051a210fe20.png', 'ff2c9988da8421f8.png', 'ff318015f347faac.png', 'ff32a456b034b9c5.png', 'ff3b56e3424db115.png', 'ff3c6a1347b59e72.png', 'ff3db10e123c413e.png', 'ff3ee757b29f7b2e.png', 'ff3f315cc48ec7f0.png', 'ff452dd0faee1d22.png', 'ff4909a520f919e2.png', 'ff4962097c43dd01.png', 'ff49d5265429c54.png', 'ff49e013eb9c3b29.png', 'ff4f88a449108233.png', 'ff516b2a162a063f.png', 'ff531e5a5ecab97d.png', 'ff5ad6f38484eba7.png', 'ff5b16f6dc93e6a2.png', 'ff5ce84497ff5e20.png', 'ff61d73d76347ef.png', 'ff64c08744373d2b.png', 'ff64f0f28596fbc5.png', 'ff65571ad996b9e9.png', 'ff658f536a1c3c5a.png', 'ff68c5b460c0cffc.png', 'ff6944033db5c901.png', 'ff6ab00d1abf730e.png', 'ff6acdfd9d9448b2.png', 'ff6b467ea0c369d2.png', 'ff6bd8a588ff5f13.png', 'ff6c42ee4b70678f.png', 'ff6c936bf9c5832a.png', 'ff72fca9fdbbe5ea.png', 'ff76ac8e24472cb.png', 'ff77fd63b65bc2b.png', 'ff7887003352369b.png', 'ff7b7c18fd1a7f5e.png', 'ff7d76bc741c0699.png', 'ff8451d5125c547c.png', 'ff8472e7e0ac9061.png', 'ff85ae57d82443bc.png', 'ff8d0cfcb49a6e36.png', 'ff8f5f1b2112ad32.png', 'ff91134701f719.png', 'ff96338e07867847.png', 'ff97fcc0f393c025.png', 'ff9db0db69a5e993.png', 'ffa38ed027575288.png', 'ffa562945648d12b.png', 'ffa6b2af0d24fe50.png', 'ffa7cf2029754b3c.png', 'ffad26d5a620f0a8.png', 'ffadf46320ab771e.png', 'ffaeec25dfa918f7.png', 'ffaf5df3a078e2d3.png', 'ffb3e2cdfb74a65d.png', 'ffb767e403db9a69.png', 'ffb89a47f4f0465a.png', 'ffb97dc51458a77d.png', 'ffba128853af4438.png', 'ffc0bfca63ddf284.png', 'ffc4715c554d7b4b.png', 'ffc5429f5edf76a9.png', 'ffc929431c99f8be.png', 'ffd90bd0ccc7104b.png', 'ffdb1ba7aa46d6f9.png', 'ffdcfe19f596572c.png', 'ffdef17903721412.png', 'ffe268448c74e16.png', 'ffe490a456292224.png', 'ffe67c2ed0443aab.png', 'ffec5791dc172baf.png', 'ffed849cb177f26c.png', 'fff30f4d700df04e.png', 'fff600d362e3e868.png', 'fff7393a3eac3a33.png']\n"
     ]
    }
   ],
   "source": [
    "#Select image file names that contain classes from the array \n",
    "imgName = []\n",
    "\n",
    "f = open(\"../imet-2019-fgvc6/train.csv\", \"r\")\n",
    "lines = f.readlines()\n",
    "\n",
    "i = 0\n",
    "\n",
    "for line in lines:\n",
    "    if i == 0: \n",
    "        i = i + 1 \n",
    "        continue\n",
    "    i = i + 1 \n",
    "\n",
    "    name = line.split(',')[0]\n",
    "    labels = line.split(',')[1].rstrip(\"\\n\").split()\n",
    "    \n",
    "    for label in labels: \n",
    "        l = int(label)\n",
    "        if l in classes: \n",
    "            imgName.append(name+\".png\")\n",
    "            break\n",
    "\n",
    "print(imgName)\n",
    "\n",
    "f.close()\n"
   ]
  },
  {
   "cell_type": "code",
   "execution_count": 16,
   "metadata": {},
   "outputs": [
    {
     "output_type": "error",
     "ename": "FileNotFoundError",
     "evalue": "[Errno 2] No such file or directory: '/Volumes/KINGSTON/VCOM/train/1000fe2e667721fe.png'",
     "traceback": [
      "\u001b[0;31m---------------------------------------------------------------------------\u001b[0m",
      "\u001b[0;31mFileNotFoundError\u001b[0m                         Traceback (most recent call last)",
      "\u001b[0;32m<ipython-input-16-2d86feb8e1d7>\u001b[0m in \u001b[0;36m<module>\u001b[0;34m\u001b[0m\n\u001b[1;32m      7\u001b[0m     \u001b[0moriginal\u001b[0m \u001b[0;34m=\u001b[0m \u001b[0;34mr'/Volumes/KINGSTON/VCOM/imet-2019-fgvc6/train/'\u001b[0m\u001b[0;34m+\u001b[0m\u001b[0mimg\u001b[0m\u001b[0;34m\u001b[0m\u001b[0;34m\u001b[0m\u001b[0m\n\u001b[1;32m      8\u001b[0m     \u001b[0mtarget\u001b[0m \u001b[0;34m=\u001b[0m \u001b[0;34mr'/Volumes/KINGSTON/VCOM/train/'\u001b[0m\u001b[0;34m+\u001b[0m\u001b[0mimg\u001b[0m\u001b[0;34m\u001b[0m\u001b[0;34m\u001b[0m\u001b[0m\n\u001b[0;32m----> 9\u001b[0;31m     \u001b[0mshutil\u001b[0m\u001b[0;34m.\u001b[0m\u001b[0mcopyfile\u001b[0m\u001b[0;34m(\u001b[0m\u001b[0moriginal\u001b[0m\u001b[0;34m,\u001b[0m \u001b[0mtarget\u001b[0m\u001b[0;34m)\u001b[0m\u001b[0;34m\u001b[0m\u001b[0;34m\u001b[0m\u001b[0m\n\u001b[0m",
      "\u001b[0;32m/usr/local/Cellar/python@3.9/3.9.4/Frameworks/Python.framework/Versions/3.9/lib/python3.9/shutil.py\u001b[0m in \u001b[0;36mcopyfile\u001b[0;34m(src, dst, follow_symlinks)\u001b[0m\n\u001b[1;32m    262\u001b[0m         \u001b[0mos\u001b[0m\u001b[0;34m.\u001b[0m\u001b[0msymlink\u001b[0m\u001b[0;34m(\u001b[0m\u001b[0mos\u001b[0m\u001b[0;34m.\u001b[0m\u001b[0mreadlink\u001b[0m\u001b[0;34m(\u001b[0m\u001b[0msrc\u001b[0m\u001b[0;34m)\u001b[0m\u001b[0;34m,\u001b[0m \u001b[0mdst\u001b[0m\u001b[0;34m)\u001b[0m\u001b[0;34m\u001b[0m\u001b[0;34m\u001b[0m\u001b[0m\n\u001b[1;32m    263\u001b[0m     \u001b[0;32melse\u001b[0m\u001b[0;34m:\u001b[0m\u001b[0;34m\u001b[0m\u001b[0;34m\u001b[0m\u001b[0m\n\u001b[0;32m--> 264\u001b[0;31m         \u001b[0;32mwith\u001b[0m \u001b[0mopen\u001b[0m\u001b[0;34m(\u001b[0m\u001b[0msrc\u001b[0m\u001b[0;34m,\u001b[0m \u001b[0;34m'rb'\u001b[0m\u001b[0;34m)\u001b[0m \u001b[0;32mas\u001b[0m \u001b[0mfsrc\u001b[0m\u001b[0;34m,\u001b[0m \u001b[0mopen\u001b[0m\u001b[0;34m(\u001b[0m\u001b[0mdst\u001b[0m\u001b[0;34m,\u001b[0m \u001b[0;34m'wb'\u001b[0m\u001b[0;34m)\u001b[0m \u001b[0;32mas\u001b[0m \u001b[0mfdst\u001b[0m\u001b[0;34m:\u001b[0m\u001b[0;34m\u001b[0m\u001b[0;34m\u001b[0m\u001b[0m\n\u001b[0m\u001b[1;32m    265\u001b[0m             \u001b[0;31m# macOS\u001b[0m\u001b[0;34m\u001b[0m\u001b[0;34m\u001b[0m\u001b[0;34m\u001b[0m\u001b[0m\n\u001b[1;32m    266\u001b[0m             \u001b[0;32mif\u001b[0m \u001b[0m_HAS_FCOPYFILE\u001b[0m\u001b[0;34m:\u001b[0m\u001b[0;34m\u001b[0m\u001b[0;34m\u001b[0m\u001b[0m\n",
      "\u001b[0;31mFileNotFoundError\u001b[0m: [Errno 2] No such file or directory: '/Volumes/KINGSTON/VCOM/train/1000fe2e667721fe.png'"
     ]
    }
   ],
   "source": [
    "#Create training folder \n",
    "\n",
    "import shutil\n",
    "\n",
    "for img in imgName: \n",
    "\n",
    "    path = \"/Volumes/KINGSTON/VCOM/imet-2019-fgvc6/train/\"+img\n",
    "\n",
    "    shutil.copy2(path,\"/Volumes/KINGSTON/VCOM/train/\")"
   ]
  },
  {
   "cell_type": "code",
   "execution_count": null,
   "metadata": {},
   "outputs": [],
   "source": []
  }
 ]
}